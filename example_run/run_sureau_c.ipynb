{
 "cells": [
  {
   "cell_type": "code",
   "execution_count": 51,
   "metadata": {},
   "outputs": [],
   "source": [
    "# Load libraries\n",
    "import glob\n",
    "import os\n",
    "import sys"
   ]
  },
  {
   "cell_type": "markdown",
   "metadata": {},
   "source": [
    "# Check the necessary files are available"
   ]
  },
  {
   "cell_type": "code",
   "execution_count": 52,
   "metadata": {},
   "outputs": [
    {
     "name": "stdout",
     "output_type": "stream",
     "text": [
      "Files found\n"
     ]
    }
   ],
   "source": [
    "if os.path.isfile(\"./sureau_ini.txt\") & os.path.isfile(\"./sureau_para.txt\") & os.path.isfile(\"./sureau.c\"):\n",
    "    print(\"Files found\")\n",
    "else:\n",
    "    print(\"Files sureau_ini.txt and sureau_para.txt MUST be included inside the folder\")\n",
    "    sys.exit(1)\n",
    "    "
   ]
  },
  {
   "cell_type": "markdown",
   "metadata": {},
   "source": [
    "# Plot climatic conditions"
   ]
  },
  {
   "cell_type": "code",
   "execution_count": 30,
   "metadata": {},
   "outputs": [
    {
     "name": "stderr",
     "output_type": "stream",
     "text": [
      "/usr/lib/python3/dist-packages/pandas/util/_decorators.py:311: ParserWarning: Falling back to the 'python' engine because the 'c' engine does not support regex separators (separators > 1 char and different from '\\s+' are interpreted as regex); you can avoid this warning by specifying engine='python'.\n",
      "  return func(*args, **kwargs)\n"
     ]
    },
    {
     "data": {
      "text/html": [
       "<div>\n",
       "<style scoped>\n",
       "    .dataframe tbody tr th:only-of-type {\n",
       "        vertical-align: middle;\n",
       "    }\n",
       "\n",
       "    .dataframe tbody tr th {\n",
       "        vertical-align: top;\n",
       "    }\n",
       "\n",
       "    .dataframe thead th {\n",
       "        text-align: right;\n",
       "    }\n",
       "</style>\n",
       "<table border=\"1\" class=\"dataframe\">\n",
       "  <thead>\n",
       "    <tr style=\"text-align: right;\">\n",
       "      <th></th>\n",
       "      <th>0</th>\n",
       "    </tr>\n",
       "  </thead>\n",
       "  <tbody>\n",
       "    <tr>\n",
       "      <th>0</th>\n",
       "      <td>2000\\t1\\t30\\t30\\t50\\t80\\t1500\\t0\\t1</td>\n",
       "    </tr>\n",
       "    <tr>\n",
       "      <th>1</th>\n",
       "      <td>2000\\t2\\t30\\t30\\t50\\t80\\t1500\\t0\\t1</td>\n",
       "    </tr>\n",
       "    <tr>\n",
       "      <th>2</th>\n",
       "      <td>2000\\t3\\t30\\t30\\t50\\t80\\t1500\\t0.1\\t1</td>\n",
       "    </tr>\n",
       "    <tr>\n",
       "      <th>3</th>\n",
       "      <td>2000\\t4\\t30\\t30\\t50\\t80\\t1500\\t0.2\\t1</td>\n",
       "    </tr>\n",
       "    <tr>\n",
       "      <th>4</th>\n",
       "      <td>2000\\t5\\t30\\t30\\t50\\t80\\t1500\\t0.3\\t1</td>\n",
       "    </tr>\n",
       "    <tr>\n",
       "      <th>5</th>\n",
       "      <td>2000\\t6\\t30\\t30\\t50\\t80\\t1500\\t0.4\\t1</td>\n",
       "    </tr>\n",
       "    <tr>\n",
       "      <th>6</th>\n",
       "      <td>2000\\t7\\t30\\t30\\t50\\t80\\t1500\\t0.5\\t1</td>\n",
       "    </tr>\n",
       "    <tr>\n",
       "      <th>7</th>\n",
       "      <td>2000\\t8\\t30\\t30\\t50\\t80\\t1500\\t0.6\\t1</td>\n",
       "    </tr>\n",
       "    <tr>\n",
       "      <th>8</th>\n",
       "      <td>2000\\t9\\t30\\t30\\t50\\t80\\t1500\\t0.7\\t1</td>\n",
       "    </tr>\n",
       "    <tr>\n",
       "      <th>9</th>\n",
       "      <td>2000\\t10\\t30\\t30\\t50\\t80\\t1500\\t0.8\\t1</td>\n",
       "    </tr>\n",
       "    <tr>\n",
       "      <th>10</th>\n",
       "      <td>2000\\t11\\t30\\t30\\t50\\t80\\t1500\\t0.9\\t1</td>\n",
       "    </tr>\n",
       "  </tbody>\n",
       "</table>\n",
       "</div>"
      ],
      "text/plain": [
       "                                         0\n",
       "0      2000\\t1\\t30\\t30\\t50\\t80\\t1500\\t0\\t1\n",
       "1      2000\\t2\\t30\\t30\\t50\\t80\\t1500\\t0\\t1\n",
       "2    2000\\t3\\t30\\t30\\t50\\t80\\t1500\\t0.1\\t1\n",
       "3    2000\\t4\\t30\\t30\\t50\\t80\\t1500\\t0.2\\t1\n",
       "4    2000\\t5\\t30\\t30\\t50\\t80\\t1500\\t0.3\\t1\n",
       "5    2000\\t6\\t30\\t30\\t50\\t80\\t1500\\t0.4\\t1\n",
       "6    2000\\t7\\t30\\t30\\t50\\t80\\t1500\\t0.5\\t1\n",
       "7    2000\\t8\\t30\\t30\\t50\\t80\\t1500\\t0.6\\t1\n",
       "8    2000\\t9\\t30\\t30\\t50\\t80\\t1500\\t0.7\\t1\n",
       "9   2000\\t10\\t30\\t30\\t50\\t80\\t1500\\t0.8\\t1\n",
       "10  2000\\t11\\t30\\t30\\t50\\t80\\t1500\\t0.9\\t1"
      ]
     },
     "execution_count": 30,
     "metadata": {},
     "output_type": "execute_result"
    }
   ],
   "source": []
  },
  {
   "cell_type": "markdown",
   "metadata": {},
   "source": [
    "# Compile C code\n",
    "\n",
    "+ The -o outputs the compiled version of SurEau \n",
    "+ The -lm flag is for including some math library\n",
    "+ The -g flag is for debugging with gd"
   ]
  },
  {
   "cell_type": "code",
   "execution_count": null,
   "metadata": {},
   "outputs": [],
   "source": [
    "!gcc sureau.c -o sureau.out -lm -g "
   ]
  },
  {
   "cell_type": "markdown",
   "metadata": {},
   "source": [
    "# Run SurEau and save output results"
   ]
  },
  {
   "cell_type": "code",
   "execution_count": 60,
   "metadata": {},
   "outputs": [],
   "source": [
    "#number_of_files = len(glob.glob1(\"./\",\"sureau_c_results*\"))\n",
    "# This line runs the compiled version of sureau and saves the results in sureau_c_results.txt\n",
    "! ./sureau.out >> sureau_c_results.txt 2>&1\n",
    "        "
   ]
  }
 ],
 "metadata": {
  "kernelspec": {
   "display_name": "Python 3",
   "language": "python",
   "name": "python3"
  },
  "language_info": {
   "codemirror_mode": {
    "name": "ipython",
    "version": 3
   },
   "file_extension": ".py",
   "mimetype": "text/x-python",
   "name": "python",
   "nbconvert_exporter": "python",
   "pygments_lexer": "ipython3",
   "version": "3.10.12"
  }
 },
 "nbformat": 4,
 "nbformat_minor": 2
}
