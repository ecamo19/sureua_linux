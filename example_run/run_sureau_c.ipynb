{
 "cells": [
  {
   "cell_type": "markdown",
   "metadata": {},
   "source": [
    "# Check the necessary files are available"
   ]
  },
  {
   "cell_type": "code",
   "execution_count": 19,
   "metadata": {},
   "outputs": [
    {
     "name": "stdout",
     "output_type": "stream",
     "text": [
      "Files found\n"
     ]
    }
   ],
   "source": [
    "import os\n",
    "import sys\n",
    "\n",
    "if os.path.isfile(\"./sureau_ini.txt\") & os.path.isfile(\"./sureau_para.txt\") & os.path.isfile(\"./sureau.c\"):\n",
    "    print(\"Files found\")\n",
    "else:\n",
    "    print(\"Files sureau_ini.txt and sureau_para.txt MUST be included inside the folder\")\n",
    "    sys.exit(1)\n",
    "    "
   ]
  },
  {
   "cell_type": "markdown",
   "metadata": {},
   "source": [
    "# Compile C code\n",
    "\n",
    "+ The -o outputs the compiled version of SurEau \n",
    "+ The -lm flag is for including some math library\n",
    "+ The -g flag is for debugging with gd"
   ]
  },
  {
   "cell_type": "code",
   "execution_count": null,
   "metadata": {},
   "outputs": [],
   "source": [
    "!gcc sureau.c -o sureau.out -lm -g "
   ]
  }
 ],
 "metadata": {
  "kernelspec": {
   "display_name": "Python 3",
   "language": "python",
   "name": "python3"
  },
  "language_info": {
   "codemirror_mode": {
    "name": "ipython",
    "version": 3
   },
   "file_extension": ".py",
   "mimetype": "text/x-python",
   "name": "python",
   "nbconvert_exporter": "python",
   "pygments_lexer": "ipython3",
   "version": "3.10.12"
  }
 },
 "nbformat": 4,
 "nbformat_minor": 2
}
