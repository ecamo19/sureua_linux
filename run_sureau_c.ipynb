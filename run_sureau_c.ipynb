{
 "cells": [
  {
   "cell_type": "code",
   "execution_count": 2,
   "metadata": {},
   "outputs": [],
   "source": [
    "# Load libraries\n",
    "import glob\n",
    "import os\n",
    "import sys"
   ]
  },
  {
   "cell_type": "markdown",
   "metadata": {},
   "source": [
    "# Folder structure: "
   ]
  },
  {
   "cell_type": "markdown",
   "metadata": {},
   "source": [
    "[4.0K]  ./\n",
    "├── [4.0K]  1_source_code/\n",
    "│   └── [311K]  sureau.c\n",
    "├── [4.0K]  2_sureau_inputs/\n",
    "│   ├── [ 339]  climat_day_in.txt\n",
    "│   ├── [ 69K]  climat_example.csv\n",
    "│   ├── [  12]  random_para.txt\n",
    "│   ├── [409K]  sureau_compiled.out*\n",
    "│   ├── [1.2K]  sureau_ini.txt\n",
    "│   └── [ 945]  sureau_para.txt\n",
    "└── [4.0K]  3_sureau_outputs/\n",
    "    ├── [1005]  annual_out.csv\n",
    "    ├── [4.1K]  sureau_out.csv\n",
    "    └── [8.1M]  transient_out.csv"
   ]
  },
  {
   "cell_type": "markdown",
   "metadata": {},
   "source": [
    "# Run SurEau and save output results"
   ]
  },
  {
   "cell_type": "markdown",
   "metadata": {},
   "source": [
    "# Plot climatic conditions"
   ]
  },
  {
   "cell_type": "markdown",
   "metadata": {},
   "source": [
    "# Compile C code\n",
    "\n",
    "+ The -o outputs the compiled version of SurEau \n",
    "+ The -lm flag is for including some math library\n",
    "+ The -g flag is for debugging with gd"
   ]
  },
  {
   "cell_type": "markdown",
   "metadata": {},
   "source": []
  }
 ],
 "metadata": {
  "kernelspec": {
   "display_name": "Python 3",
   "language": "python",
   "name": "python3"
  },
  "language_info": {
   "codemirror_mode": {
    "name": "ipython",
    "version": 3
   },
   "file_extension": ".py",
   "mimetype": "text/x-python",
   "name": "python",
   "nbconvert_exporter": "python",
   "pygments_lexer": "ipython3",
   "version": "3.10.12"
  }
 },
 "nbformat": 4,
 "nbformat_minor": 2
}
